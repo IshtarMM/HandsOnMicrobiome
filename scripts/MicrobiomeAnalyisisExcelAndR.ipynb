{
 "cells": [
  {
   "cell_type": "markdown",
   "id": "bfd51312-a7e4-4380-8173-3a509a8a2c88",
   "metadata": {},
   "source": [
    "### <span style=\"color:darkgreen\"> Data analysis protocol (Excel and R)\n",
    "\n",
    "---\n"
   ]
  },
  {
   "cell_type": "markdown",
   "id": "a8082ea2-fe82-4fac-8fb7-27293a56b573",
   "metadata": {},
   "source": [
    "1. Let’s open the shared table  in excel\n",
    "<span style=\"color:blue\">(BV5.trim.contigs.good.renamed.unique.pick.dgc.unique_list.0.03.abund.0.03.pick.0.03.pick.0.03.pick.0.03.pick.shared) </span>\n",
    "\n",
    " ![](pictures/excelAndR/1.png)\n",
    "\n",
    " <span style=\"color:red\">Q: what is label? What is group and what is numOtus?"
   ]
  },
  {
   "cell_type": "markdown",
   "id": "65883fa3-70d2-4365-9b25-bfc71accdc1c",
   "metadata": {},
   "source": [
    "---\n",
    "2. Let’s include the sample information in the excel table:\n",
    "\n",
    " ![](pictures/excelAndR/2.png)"
   ]
  },
  {
   "cell_type": "markdown",
   "id": "d79d7d98-4d7b-47fe-9bc6-299d022b9961",
   "metadata": {},
   "source": [
    "3. Let’s plot the total number of reads per sample:\n",
    " ![](pictures/excelAndR/3.png)\n",
    " <span style=\"color:red\">Q: what is the max number of reads per sample? What is the min?"
   ]
  },
  {
   "cell_type": "markdown",
   "id": "50018f15-ab7d-4810-b3c1-d0218fc62dce",
   "metadata": {},
   "source": [
    "4. Let’s see the number of reads per OTU in each sample (for the first 100 samples):\n",
    "                                                         \n",
    " ![](pictures/excelAndR/4.png)                                                         \n",
    " \n",
    " <span style=\"color:red\">Q: what are the most abundant OTUs in each of the samples? Use the taxonomy file to see the OTU id. Does it makes sense?\n",
    "\n",
    " <span style=\"color:red\">Q: How can we normalize the data to compare the samples?\n",
    "                                                   "
   ]
  },
  {
   "cell_type": "markdown",
   "id": "2656efca-5c53-4013-a133-352159aa334d",
   "metadata": {},
   "source": [
    "\n",
    "---\n",
    "5. Let’s export the data to work in R:\n",
    "In R we need a sample information file (s.txt) and an OTU table (tab.txt). The rows have to match! Copy paste the data into a .txt file.\n",
    "\n",
    " ![](pictures/excelAndR/5.png)\n",
    "\n",
    " <span style=\"color:green\">Note:(we already located the files in /home/ubuntu/scripts/data/)\n",
    "    \n"
   ]
  },
  {
   "cell_type": "markdown",
   "id": "d7f128bd-3bd0-4fbe-8a11-1e086c2ed45f",
   "metadata": {},
   "source": [
    "---\n",
    "6. Let’s load the samples and table:\n"
   ]
  },
  {
   "cell_type": "code",
   "execution_count": null,
   "id": "fc5a14da-ec26-4d25-9c07-6b7a546258aa",
   "metadata": {},
   "outputs": [],
   "source": [
    "setwd('/home/ubuntu/scripts/') #set working directory"
   ]
  },
  {
   "cell_type": "code",
   "execution_count": null,
   "id": "50d38ca0-3f9b-40a4-a1ac-6ab89f631372",
   "metadata": {},
   "outputs": [],
   "source": [
    "tab <- read.table(\"data/tab.txt\", h=T, sep='\\t') #load the tab.txt file\n",
    "tab #print the file"
   ]
  },
  {
   "cell_type": "code",
   "execution_count": null,
   "id": "cc6118a1-3bf5-4826-8a76-571a2ebe8265",
   "metadata": {},
   "outputs": [],
   "source": [
    "s <- read.table(\"data/s.txt\", h=T, sep='\\t') ##load the s.txt file \n",
    "s #print the file"
   ]
  },
  {
   "cell_type": "code",
   "execution_count": null,
   "id": "04aaccc4-317f-4f42-8817-16438f7c31fe",
   "metadata": {},
   "outputs": [],
   "source": [
    "s$Sample <- factor(s$sample_type, levels=c(\"At_leaf\", \"Soil\", \"Chicken_poo\", \"Fruit_fly\"))\n",
    "s"
   ]
  },
  {
   "cell_type": "markdown",
   "id": "24b528bf-01f8-4ea4-a676-e0667d6df24b",
   "metadata": {},
   "source": [
    "---\n",
    "7. Let’s create the rarefaction curves to see how well are we capturing microbial diversity in the different samples:\n"
   ]
  },
  {
   "cell_type": "code",
   "execution_count": null,
   "id": "2a171a1d-9742-491e-af39-01e1c1b8bce8",
   "metadata": {},
   "outputs": [],
   "source": [
    "library(vegan) # load vegan packages "
   ]
  },
  {
   "cell_type": "code",
   "execution_count": null,
   "id": "8a4a1501-1240-4ad0-8fc7-366c25efac96",
   "metadata": {},
   "outputs": [],
   "source": [
    "rarecurve(tab, step=100, col = c(rep(\"chartreuse3\",3), rep(\"blue\",3), rep( \"red\",3), rep(\"brown\",3)), cex = 0.6,  xlab = \"Sample Size\", ylab = \"Number of OTUs in all samples\", label=F)\n",
    "\n",
    "#Green=At_leaf, Blue= Soil, Red=Chicken_poo, Brown= Fruit_fly"
   ]
  },
  {
   "cell_type": "markdown",
   "id": "1f2ab55d-bfaf-4816-8384-f4e640f58089",
   "metadata": {},
   "source": [
    "\n",
    " ![](pictures/excelAndR/6.png)\n",
    "\n",
    "\n",
    " <span style=\"color:red\">Q: How is a rarefaction curve constructed? What is “step” in the command? What happens if step=10000?\n",
    "\n",
    " <span style=\"color:red\">Q: What is the highest diversity sample? What is the lowest? Have we sequenced enough reads from each sample?\n"
   ]
  },
  {
   "cell_type": "markdown",
   "id": "ddae9b75-0f64-4c57-a97a-8f3dc294c14d",
   "metadata": {},
   "source": [
    "---\n",
    "\n",
    "8. Let’s see how we can rarefy the samples. In theory it should be to the lowest number of reads in a sample. Here the lowest number of reads in a sample is 2964.\n",
    "Let’s see what happens if we rarefy to 2964:\n"
   ]
  },
  {
   "cell_type": "code",
   "execution_count": null,
   "id": "5297f1a9-c2be-40ee-8813-c57e01bf8f79",
   "metadata": {},
   "outputs": [],
   "source": [
    "rarecurve(tab, step=1000, sample=2964, col = c(rep(\"chartreuse3\",3), rep(\"blue\",3), rep( \"red\",3), rep(\"brown\",3)), cex = 0.6,  xlab = \"Sample Size\", ylab = \"Number of OTUs in all samples\", label=F)"
   ]
  },
  {
   "cell_type": "markdown",
   "id": "1944fa04-e4ea-437a-b351-7629735b94cb",
   "metadata": {},
   "source": [
    " ![](pictures/excelAndR/7.png)\n",
    " \n",
    "<span style=\"color:red\">Q: Do you think this would be a good idea? Would we be under estimating the diversity? By a lot?"
   ]
  },
  {
   "cell_type": "markdown",
   "id": "139169e6-a168-4823-a368-48e65b43042f",
   "metadata": {},
   "source": [
    "---\n",
    "9. Let’s rarefy the samples:"
   ]
  },
  {
   "cell_type": "code",
   "execution_count": null,
   "id": "21d0f9c6-96a5-4bf8-adfa-d11db8cc4dce",
   "metadata": {},
   "outputs": [],
   "source": [
    "rarefied.tab <- rrarefy(tab, sample=2964)\n"
   ]
  },
  {
   "cell_type": "markdown",
   "id": "7cb9a7cb-ec3d-4637-b271-4a9dc53fef06",
   "metadata": {},
   "source": [
    "10. take a look at the new table. \n",
    "\n",
    "<span style=\"color:red\">Q: How many reads for Otu10 are in which sample 10? 93?\n",
    "\n"
   ]
  },
  {
   "cell_type": "code",
   "execution_count": null,
   "id": "38727ad8-c74e-4d52-8c4a-3e1cfe11ca0e",
   "metadata": {},
   "outputs": [],
   "source": [
    "rarefied.tab[, \"Otu00010\"]"
   ]
  },
  {
   "cell_type": "markdown",
   "id": "f6bdda8b-f382-41c1-8dd1-3bd033a72443",
   "metadata": {},
   "source": [
    "---\n",
    "\n",
    "11.Let’s calculate 3 alpha diversity indexes in the samples to compare them:\n",
    "\n",
    "\n"
   ]
  },
  {
   "cell_type": "code",
   "execution_count": null,
   "id": "df9aa60f-ffbd-4e7b-8736-9a6c4bd51e5a",
   "metadata": {},
   "outputs": [],
   "source": [
    "richness<-specnumber(rarefied.tab, MARGIN = 1)"
   ]
  },
  {
   "cell_type": "code",
   "execution_count": null,
   "id": "976be2cb-6a6f-4461-8abb-79a7f7cda5a5",
   "metadata": {},
   "outputs": [],
   "source": [
    "shannon<-diversity(rarefied.tab, index = \"shannon\", MARGIN = 1, base = exp(1))"
   ]
  },
  {
   "cell_type": "code",
   "execution_count": null,
   "id": "6bf09270-a678-4f3c-b8eb-a74fb8b79368",
   "metadata": {},
   "outputs": [],
   "source": [
    "simpson<-diversity(rarefied.tab, index = \"simpson\", MARGIN = 1, base = exp(1))"
   ]
  },
  {
   "cell_type": "code",
   "execution_count": null,
   "id": "aaefce1b-b88f-4e80-8821-3aefb14d8249",
   "metadata": {},
   "outputs": [],
   "source": [
    "rarefied.s<-cbind(s,richness,shannon,simpson)"
   ]
  },
  {
   "cell_type": "markdown",
   "id": "6032ff56-a7c3-4a39-b3ad-a54e6d9e3b9e",
   "metadata": {},
   "source": [
    "12. Let’s plot the results:"
   ]
  },
  {
   "cell_type": "code",
   "execution_count": null,
   "id": "0de9f273-63a7-4d27-bacf-6fe587c106d4",
   "metadata": {},
   "outputs": [],
   "source": [
    "par(mfrow=c(1,3))\n",
    "\n",
    "plot(rarefied.s$richness~rarefied.s$sample_type)\n",
    "plot(rarefied.s$shannon~rarefied.s$sample_type)\n",
    "plot(rarefied.s$simpson~rarefied.s$sample_type)"
   ]
  },
  {
   "cell_type": "markdown",
   "id": "2fed703d-e535-4ba3-b2aa-10ce1aca4c54",
   "metadata": {},
   "source": [
    "\n",
    " ![](pictures/excelAndR/8.png)\n",
    " \n",
    "<span style=\"color:red\"> Q: How are each of these indexes calculated? \n",
    "    \n",
    "<span style=\"color:red\">Q: The simpson and shannon indexes seems to give a bigger difference between chicken_poo and fruit_fly samples. Why is this i.e. what could be the explanation?\n"
   ]
  },
  {
   "cell_type": "markdown",
   "id": "03d0990a-4a92-43f0-b594-b6e2d0ca2510",
   "metadata": {},
   "source": [
    "---\n",
    "13. Ok let’s calculate beta-diversity indexes (distances) to compare the samples and visualize the differences by PCoA and hierarchical-clustering.\n",
    "\n",
    "First with Euclidean distances:"
   ]
  },
  {
   "cell_type": "code",
   "execution_count": null,
   "id": "347d5a57-b9ec-4551-af22-350a5ba8cd42",
   "metadata": {},
   "outputs": [],
   "source": [
    "library(ade4)\n",
    "\n",
    "#First with Euclidean distances:\n",
    "\n",
    "vegdist(rarefied.tab, method=\"euclidean\", binary=FALSE)\n",
    "pca_euc_rarefied.tab<-dudi.pco(vegdist(rarefied.tab, method=\"euclidean\", binary=FALSE), scannf=F)\n",
    "\n",
    "s.class(pca_euc_rarefied.tab $li, s$Sample, xax=1, yax=2, cpoint=3, grid=F, addaxes=T, cellipse=1, cstar=0, axesell=0, col = c(\"chartreuse3\",\"blue\",\"red\",\"brown\"), clabel = 0.5, sub=\"Euclidean\")\n",
    "\n"
   ]
  },
  {
   "cell_type": "code",
   "execution_count": null,
   "id": "786e12a9-d572-4635-bcc0-0d22e69b3714",
   "metadata": {},
   "outputs": [],
   "source": [
    "#then with Bray-curtis distances (dissimilarity):\n",
    "\n",
    "vegdist(rarefied.tab, method=\"bray\", binary=FALSE)\n",
    "pca_bray_rarefied.tab<-dudi.pco(vegdist(rarefied.tab, method=\"bray\", binary=FALSE), scannf=F)\n",
    "\n",
    "s.class(pca_bray_rarefied.tab $li, s$Sample, xax=1, yax=2, cpoint=3, grid=F, addaxes=T, cellipse=1, cstar=0, axesell=0, col = c(\"chartreuse3\",\"blue\",\"red\",\"brown\"), clabel = 0.5, sub=\"Bray-Curtis\")\n"
   ]
  },
  {
   "cell_type": "markdown",
   "id": "abb9a18f-74b2-4f9f-8da0-18c1d6d9f053",
   "metadata": {},
   "source": [
    "---\n",
    "14. check the weight of each of the axes i.e. the percentage of variability captured by the axis:"
   ]
  },
  {
   "cell_type": "code",
   "execution_count": null,
   "id": "6e6fbbbf-206a-498d-ae37-7fd3a5ab784a",
   "metadata": {},
   "outputs": [],
   "source": [
    "inertia(pca_euc_rarefied.tab)\n",
    "inertia(pca_bray_rarefied.tab)"
   ]
  },
  {
   "cell_type": "markdown",
   "id": "8654a557-37e6-4233-b20d-c570c0bc147c",
   "metadata": {},
   "source": [
    "![](pictures/excelAndR/9.png)"
   ]
  },
  {
   "cell_type": "code",
   "execution_count": null,
   "id": "c7829752-63ac-4c42-a85d-8e76be25b313",
   "metadata": {},
   "outputs": [],
   "source": [
    "par(mfrow=c(1,2))\n",
    "\n",
    "plot(hclust(vegdist(rarefied.tab, method=\"euclidean\", binary=FALSE), method = \"complete\", members = NULL), labels=s$Sample)\n",
    "\n",
    "plot(hclust(vegdist(rarefied.tab, method=\"bray\", binary=FALSE), method = \"complete\", members = NULL), labels=s$Sample)\n"
   ]
  },
  {
   "cell_type": "markdown",
   "id": "e93aa405-ce07-45f0-8109-f10ce027b368",
   "metadata": {},
   "source": [
    "![](pictures/excelAndR/10.png)\n",
    "\n",
    "<span style=\"color:red\">Q: Do these two distance methods give similar results? What is the main difference?"
   ]
  },
  {
   "cell_type": "markdown",
   "id": "5d410b17-5565-4a8c-8fbe-e8aaed547dd3",
   "metadata": {},
   "source": [
    "---\n",
    "15. Now let’s say that one of our samples didn’t work so well and we obtained only 1000 reads. In that case we would have to rarefy to 1000 reads."
   ]
  },
  {
   "cell_type": "markdown",
   "id": "a379af42-a229-43fc-9cc3-6b6500c4b3c2",
   "metadata": {},
   "source": [
    "rarefied.tab<-rrarefy(tab, sample=100)"
   ]
  },
  {
   "cell_type": "markdown",
   "id": "74afa33a-f203-4251-9b40-24c2876f41e7",
   "metadata": {},
   "source": [
    "<span style=\"color:red\">Q: How does this affects our results? What changes in comparison to the previous rarefaction?\n",
    "\n",
    "Run all the commands from step 11 and compare the results"
   ]
  },
  {
   "cell_type": "code",
   "execution_count": null,
   "id": "29136078-967c-46e9-9ddb-d837baef9fe7",
   "metadata": {},
   "outputs": [],
   "source": [
    "simper(tab, s$sample_type, permutations = 0, trace = FALSE)"
   ]
  },
  {
   "cell_type": "markdown",
   "id": "cb05d7e1-70ab-432d-9c88-8b738065eb4e",
   "metadata": {},
   "source": [
    "<span style=\"color:red\">Q: What does the output tell us? (https://rdrr.io/cran/vegan/man/simper.html)"
   ]
  },
  {
   "cell_type": "markdown",
   "id": "2d7ca6a0-fab6-4ee7-ad80-da63694bf4f7",
   "metadata": {},
   "source": [
    "Now run a significance test for individual OTUs to see if results are relevant"
   ]
  },
  {
   "cell_type": "code",
   "execution_count": null,
   "id": "05bf9127-cea0-4edb-9320-fbc1f60d23a4",
   "metadata": {},
   "outputs": [],
   "source": [
    "kruskal.test(tab$Otu00002 ~ s$sample_type)"
   ]
  },
  {
   "cell_type": "markdown",
   "id": "435d08e1-47ca-4585-b232-42d4a766a550",
   "metadata": {},
   "source": [
    "<span style=\"color:red\">Q: What does the statistics tell us?"
   ]
  },
  {
   "cell_type": "markdown",
   "id": "54ea0d56-1853-4935-85dc-28072e53b43e",
   "metadata": {},
   "source": [
    "### Final short presentations:\n",
    "\n",
    "\n",
    "<img src=\"pictures/excelAndR/presentationIcon.png\"  width=\"60%\" height=\"30%\">"
   ]
  },
  {
   "cell_type": "markdown",
   "id": "89b600f4-2608-4689-a799-85572984c70d",
   "metadata": {},
   "source": [
    "### describe your microbial community\n",
    "\n",
    "### Remind us what is the sample origin.\n",
    "\n",
    "### For both 18S and 16S describe…\n",
    "1. Level of diversity (number of OTUs)\n",
    "2. Difference in comparison to other samples? Which is the most similar?\n",
    "3. What were the main “contaminant” i.e. non-microbial OTUs that had to be deleted? For this you need to look into the fisrt “shared” file created in mothur.\n",
    "4. What percentage of the sample did they represent?\n",
    "\n",
    "5. What are the main OTUs found in the sample? (max. 10 most abundant)\n",
    "6. What is their phylogenetic classification?\n",
    "7. To what type of organism do they correspond?\n",
    "8. Is it normal or unusual to find those microbes in that type of sample?\n",
    "9. What could they be doing there?\n",
    "10. What would you do to find out what they are doing there (i.e. the function)? Briefly describe an experiment you would do."
   ]
  },
  {
   "cell_type": "markdown",
   "id": "266bf521-ea3b-4851-8dad-08af3c4c5ef3",
   "metadata": {},
   "source": [
    "---\n",
    "### <span style=\"color:green\">Hints: \n",
    "    \n",
    "•\tGet the representative sequences from the OTUs and blast them to see if you get a better identification.\n",
    "    \n",
    "•\tThink about how 18S and 16S results could be connected.\n",
    "    \n",
    "•\tDo not limit your literature search to Wikipedia! Go to google scholar (https://scholar.google.com) and get the real information from scientific papers."
   ]
  }
 ],
 "metadata": {
  "kernelspec": {
   "display_name": "R",
   "language": "R",
   "name": "ir"
  },
  "language_info": {
   "codemirror_mode": "r",
   "file_extension": ".r",
   "mimetype": "text/x-r-source",
   "name": "R",
   "pygments_lexer": "r",
   "version": "4.1.2"
  }
 },
 "nbformat": 4,
 "nbformat_minor": 5
}
